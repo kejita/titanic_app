{
 "cells": [
  {
   "cell_type": "code",
   "execution_count": 62,
   "id": "7800b296",
   "metadata": {},
   "outputs": [],
   "source": [
    "import json, joblib, numpy as np, pandas as pd, sklearn\n",
    "from sklearn.compose import ColumnTransformer\n",
    "from sklearn.preprocessing import OneHotEncoder, PowerTransformer\n",
    "from sklearn.impute import SimpleImputer\n",
    "from sklearn.pipeline import Pipeline\n",
    "from sklearn.svm import SVC\n",
    "from sklearn.model_selection import train_test_split"
   ]
  },
  {
   "cell_type": "code",
   "execution_count": 63,
   "id": "db13b8bb",
   "metadata": {},
   "outputs": [],
   "source": [
    "# 1) 元CSVの「素の列」を読み込み\n",
    "train_raw = pd.read_csv(\"titanic_train.csv\") "
   ]
  },
  {
   "cell_type": "code",
   "execution_count": 64,
   "id": "95202957",
   "metadata": {},
   "outputs": [],
   "source": [
    "# 2) 学習に使う列と目的変数\n",
    "target = \"survived\"\n",
    "# Kaggle Titanic 想定: pclass, sex, age, sibsp, parch, fare, embarked \n",
    "# idのような列があればここで除外\n",
    "id_like_cols = [c for c in train_raw.columns if c.lower() in (\"id\",\"passengerid\")]\n",
    "feature_cols = [c for c in train_raw.columns if c not in id_like_cols + [target]]"
   ]
  },
  {
   "cell_type": "code",
   "execution_count": 65,
   "id": "e2f963c2",
   "metadata": {},
   "outputs": [],
   "source": [
    "# 3) 列を数値 / カテゴリに分ける（自動推定でもOKだが、明示が安全）\n",
    "cat_cols = [c for c in feature_cols if train_raw[c].dtype == \"object\"]\n",
    "num_cols = [c for c in feature_cols if c not in cat_cols]"
   ]
  },
  {
   "cell_type": "code",
   "execution_count": 66,
   "id": "48b4ff8d",
   "metadata": {},
   "outputs": [],
   "source": [
    "# 4) 前処理：Notebookの方針を再現\n",
    "# 数値:平均で補完 → PowerTransformer(Yeo-Johnson, standardize=True) でスケーリング\n",
    "# カテゴリ:最頻値で補完 → One-Hot（未知カテゴリは無視）\n",
    "num_pipe = Pipeline([\n",
    "    (\"imputer\", SimpleImputer(strategy=\"mean\")),\n",
    "    (\"power\",   PowerTransformer(standardize=True))\n",
    "])\n",
    "cat_pipe = Pipeline([\n",
    "    (\"imputer\", SimpleImputer(strategy=\"most_frequent\")),\n",
    "    (\"ohe\",     OneHotEncoder(handle_unknown=\"ignore\", sparse_output=False))\n",
    "])\n",
    "\n",
    "preprocess = ColumnTransformer(\n",
    "    transformers=[\n",
    "        (\"num\", num_pipe, num_cols),\n",
    "        (\"cat\", cat_pipe, cat_cols),\n",
    "    ],\n",
    "    remainder=\"drop\"\n",
    ")\n"
   ]
  },
  {
   "cell_type": "code",
   "execution_count": 67,
   "id": "60a43e10",
   "metadata": {},
   "outputs": [],
   "source": [
    "# 5) 分類器（SVC: linear）。必要なら class_weight や C を調整\n",
    "clf = SVC(kernel=\"linear\", probability=True, random_state=42)\n",
    "\n",
    "pipe = Pipeline([\n",
    "    (\"prep\", preprocess),\n",
    "    (\"clf\",  clf)\n",
    "])\n"
   ]
  },
  {
   "cell_type": "code",
   "execution_count": 68,
   "id": "9c1ada4f",
   "metadata": {},
   "outputs": [
    {
     "name": "stdout",
     "output_type": "stream",
     "text": [
      "Train score: 0.797752808988764\n",
      "Test  score: 0.7640449438202247\n"
     ]
    }
   ],
   "source": [
    "# 6) 学習（簡易にホールドアウト）\n",
    "X = train_raw[feature_cols]\n",
    "y = train_raw[target]\n",
    "X_tr, X_te, y_tr, y_te = train_test_split(X, y, test_size=0.2, stratify=y, random_state=42)\n",
    "pipe.fit(X_tr, y_tr)\n",
    "print(\"Train score:\", pipe.score(X_tr, y_tr))\n",
    "print(\"Test  score:\",  pipe.score(X_te, y_te))"
   ]
  },
  {
   "cell_type": "code",
   "execution_count": 69,
   "id": "f391bdc4",
   "metadata": {},
   "outputs": [
    {
     "name": "stdout",
     "output_type": "stream",
     "text": [
      "Saved model.pkl\n"
     ]
    }
   ],
   "source": [
    "# 7) 保存（前処理ごと）\n",
    "joblib.dump(pipe, \"model.pkl\")\n",
    "print(\"Saved model.pkl\")\n"
   ]
  },
  {
   "cell_type": "code",
   "execution_count": 71,
   "id": "2b1b937d",
   "metadata": {},
   "outputs": [
    {
     "name": "stdout",
     "output_type": "stream",
     "text": [
      "Saved model_meta.json\n",
      "1.7.2\n"
     ]
    }
   ],
   "source": [
    "# 8) メタ情報も保存（将来の互換性・可観測性のため）\n",
    "meta = {\n",
    "    \"sklearn_version\": sklearn.__version__,\n",
    "    \"task\": \"classification\",\n",
    "    \"feature_cols\": feature_cols,   # 元の“生”の列名\n",
    "    \"num_cols\": num_cols,\n",
    "    \"cat_cols\": cat_cols,\n",
    "    \"target\": target,\n",
    "    \"estimator\": \"SVC(kernel='linear', probability=True)\"\n",
    "}\n",
    "with open(\"model_meta.json\", \"w\", encoding=\"utf-8\") as f:\n",
    "    json.dump(meta, f, ensure_ascii=False, indent=2)\n",
    "print(\"Saved model_meta.json\")\n",
    "print(sklearn.__version__)"
   ]
  }
 ],
 "metadata": {
  "kernelspec": {
   "display_name": ".venv",
   "language": "python",
   "name": "python3"
  },
  "language_info": {
   "codemirror_mode": {
    "name": "ipython",
    "version": 3
   },
   "file_extension": ".py",
   "mimetype": "text/x-python",
   "name": "python",
   "nbconvert_exporter": "python",
   "pygments_lexer": "ipython3",
   "version": "3.11.9"
  }
 },
 "nbformat": 4,
 "nbformat_minor": 5
}
