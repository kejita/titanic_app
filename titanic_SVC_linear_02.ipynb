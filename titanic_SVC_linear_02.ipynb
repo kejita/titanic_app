{
 "cells": [
  {
   "cell_type": "code",
   "execution_count": null,
   "id": "7800b296",
   "metadata": {},
   "outputs": [],
   "source": [
    "import json\n",
    "import joblib \n",
    "import pandas as pd\n",
    "import sklearn\n",
    "from sklearn.compose import ColumnTransformer\n",
    "from sklearn.preprocessing import OneHotEncoder, PowerTransformer\n",
    "from sklearn.impute import SimpleImputer\n",
    "from sklearn.pipeline import Pipeline\n",
    "from sklearn.svm import SVC\n",
    "from sklearn.model_selection import train_test_split"
   ]
  },
  {
   "cell_type": "code",
   "execution_count": 9,
   "id": "db13b8bb",
   "metadata": {},
   "outputs": [
    {
     "data": {
      "text/html": [
       "<div>\n",
       "<style scoped>\n",
       "    .dataframe tbody tr th:only-of-type {\n",
       "        vertical-align: middle;\n",
       "    }\n",
       "\n",
       "    .dataframe tbody tr th {\n",
       "        vertical-align: top;\n",
       "    }\n",
       "\n",
       "    .dataframe thead th {\n",
       "        text-align: right;\n",
       "    }\n",
       "</style>\n",
       "<table border=\"1\" class=\"dataframe\">\n",
       "  <thead>\n",
       "    <tr style=\"text-align: right;\">\n",
       "      <th></th>\n",
       "      <th>id</th>\n",
       "      <th>survived</th>\n",
       "      <th>pclass</th>\n",
       "      <th>sex</th>\n",
       "      <th>age</th>\n",
       "      <th>sibsp</th>\n",
       "      <th>parch</th>\n",
       "      <th>embarked</th>\n",
       "    </tr>\n",
       "  </thead>\n",
       "  <tbody>\n",
       "    <tr>\n",
       "      <th>0</th>\n",
       "      <td>3</td>\n",
       "      <td>1</td>\n",
       "      <td>1</td>\n",
       "      <td>female</td>\n",
       "      <td>35.0</td>\n",
       "      <td>1</td>\n",
       "      <td>0</td>\n",
       "      <td>S</td>\n",
       "    </tr>\n",
       "    <tr>\n",
       "      <th>1</th>\n",
       "      <td>4</td>\n",
       "      <td>0</td>\n",
       "      <td>3</td>\n",
       "      <td>male</td>\n",
       "      <td>35.0</td>\n",
       "      <td>0</td>\n",
       "      <td>0</td>\n",
       "      <td>S</td>\n",
       "    </tr>\n",
       "    <tr>\n",
       "      <th>2</th>\n",
       "      <td>7</td>\n",
       "      <td>0</td>\n",
       "      <td>3</td>\n",
       "      <td>male</td>\n",
       "      <td>2.0</td>\n",
       "      <td>3</td>\n",
       "      <td>1</td>\n",
       "      <td>S</td>\n",
       "    </tr>\n",
       "    <tr>\n",
       "      <th>3</th>\n",
       "      <td>9</td>\n",
       "      <td>1</td>\n",
       "      <td>2</td>\n",
       "      <td>female</td>\n",
       "      <td>14.0</td>\n",
       "      <td>1</td>\n",
       "      <td>0</td>\n",
       "      <td>C</td>\n",
       "    </tr>\n",
       "    <tr>\n",
       "      <th>4</th>\n",
       "      <td>11</td>\n",
       "      <td>1</td>\n",
       "      <td>1</td>\n",
       "      <td>female</td>\n",
       "      <td>58.0</td>\n",
       "      <td>0</td>\n",
       "      <td>0</td>\n",
       "      <td>S</td>\n",
       "    </tr>\n",
       "  </tbody>\n",
       "</table>\n",
       "</div>"
      ],
      "text/plain": [
       "   id  survived  pclass     sex   age  sibsp  parch embarked\n",
       "0   3         1       1  female  35.0      1      0        S\n",
       "1   4         0       3    male  35.0      0      0        S\n",
       "2   7         0       3    male   2.0      3      1        S\n",
       "3   9         1       2  female  14.0      1      0        C\n",
       "4  11         1       1  female  58.0      0      0        S"
      ]
     },
     "execution_count": 9,
     "metadata": {},
     "output_type": "execute_result"
    }
   ],
   "source": [
    "# 1) 元CSVの「素の列」を読み込み\n",
    "train_raw = pd.read_csv(\"titanic_train.csv\") \n",
    "train_raw = train_raw.drop(columns=[\"fare\"])\n",
    "train_raw.head(5)"
   ]
  },
  {
   "cell_type": "code",
   "execution_count": 10,
   "id": "95202957",
   "metadata": {},
   "outputs": [],
   "source": [
    "# 2) 学習に使う列と目的変数\n",
    "target = \"survived\"\n",
    "# Kaggle Titanic 想定: pclass, sex, age, sibsp, parch, fare, embarked \n",
    "# idのような列があればここで除外\n",
    "id_like_cols = [c for c in train_raw.columns if c.lower() in (\"id\",\"passengerid\")]\n",
    "feature_cols = [c for c in train_raw.columns if c not in id_like_cols + [target]]   "
   ]
  },
  {
   "cell_type": "code",
   "execution_count": 11,
   "id": "e2f963c2",
   "metadata": {},
   "outputs": [],
   "source": [
    "# 3) 列を数値 / カテゴリに分ける（自動推定でもOKだが、明示が安全）\n",
    "cat_cols = [c for c in feature_cols if train_raw[c].dtype == \"object\"]\n",
    "num_cols = [c for c in feature_cols if c not in cat_cols]"
   ]
  },
  {
   "cell_type": "code",
   "execution_count": 12,
   "id": "48b4ff8d",
   "metadata": {},
   "outputs": [],
   "source": [
    "# 4) 前処理：Notebookの方針を再現\n",
    "# 数値:平均で補完 → PowerTransformer(Yeo-Johnson, standardize=True) でスケーリング\n",
    "# カテゴリ:最頻値で補完 → One-Hot（未知カテゴリは無視）\n",
    "num_pipe = Pipeline([\n",
    "    (\"imputer\", SimpleImputer(strategy=\"mean\")),\n",
    "    (\"power\",   PowerTransformer(standardize=True))\n",
    "])\n",
    "cat_pipe = Pipeline([\n",
    "    (\"imputer\", SimpleImputer(strategy=\"most_frequent\")),\n",
    "    (\"ohe\",     OneHotEncoder(handle_unknown=\"ignore\", sparse_output=False))\n",
    "])\n",
    "\n",
    "preprocess = ColumnTransformer(\n",
    "    transformers=[\n",
    "        (\"num\", num_pipe, num_cols),\n",
    "        (\"cat\", cat_pipe, cat_cols),\n",
    "    ],\n",
    "    remainder=\"drop\"\n",
    ")\n"
   ]
  },
  {
   "cell_type": "code",
   "execution_count": 13,
   "id": "60a43e10",
   "metadata": {},
   "outputs": [],
   "source": [
    "# 5) 分類器（SVC: linear）。必要なら class_weight や C を調整\n",
    "clf = SVC(kernel=\"linear\", probability=True, random_state=42)\n",
    "\n",
    "pipe = Pipeline([\n",
    "    (\"prep\", preprocess),\n",
    "    (\"clf\",  clf)\n",
    "])\n"
   ]
  },
  {
   "cell_type": "code",
   "execution_count": 14,
   "id": "9c1ada4f",
   "metadata": {},
   "outputs": [
    {
     "name": "stdout",
     "output_type": "stream",
     "text": [
      "Train score: 0.797752808988764\n",
      "Test  score: 0.7640449438202247\n"
     ]
    }
   ],
   "source": [
    "# 6) 学習（簡易にホールドアウト）\n",
    "X = train_raw[feature_cols]\n",
    "y = train_raw[target]\n",
    "X_tr, X_te, y_tr, y_te = train_test_split(X, y, test_size=0.2, stratify=y, random_state=42)\n",
    "pipe.fit(X_tr, y_tr)\n",
    "print(\"Train score:\", pipe.score(X_tr, y_tr))\n",
    "print(\"Test  score:\",  pipe.score(X_te, y_te))"
   ]
  },
  {
   "cell_type": "code",
   "execution_count": 15,
   "id": "f391bdc4",
   "metadata": {},
   "outputs": [
    {
     "name": "stdout",
     "output_type": "stream",
     "text": [
      "Saved model.pkl\n"
     ]
    }
   ],
   "source": [
    "# 7) 保存（前処理ごと）\n",
    "joblib.dump(pipe, \"model.pkl\")\n",
    "print(\"Saved model.pkl\")\n"
   ]
  },
  {
   "cell_type": "code",
   "execution_count": 16,
   "id": "2b1b937d",
   "metadata": {},
   "outputs": [
    {
     "name": "stdout",
     "output_type": "stream",
     "text": [
      "Saved model_meta.json\n",
      "1.7.2\n"
     ]
    }
   ],
   "source": [
    "# 8) メタ情報も保存（将来の互換性・可観測性のため）\n",
    "meta = {\n",
    "    \"sklearn_version\": sklearn.__version__,\n",
    "    \"task\": \"classification\",\n",
    "    \"feature_cols\": feature_cols,   # 元の“生”の列名\n",
    "    \"num_cols\": num_cols,\n",
    "    \"cat_cols\": cat_cols,\n",
    "    \"target\": target,\n",
    "    \"estimator\": \"SVC(kernel='linear', probability=True)\"\n",
    "}\n",
    "with open(\"model_meta.json\", \"w\", encoding=\"utf-8\") as f:\n",
    "    json.dump(meta, f, ensure_ascii=False, indent=2)\n",
    "print(\"Saved model_meta.json\")\n",
    "print(sklearn.__version__)"
   ]
  }
 ],
 "metadata": {
  "kernelspec": {
   "display_name": ".venv",
   "language": "python",
   "name": "python3"
  },
  "language_info": {
   "codemirror_mode": {
    "name": "ipython",
    "version": 3
   },
   "file_extension": ".py",
   "mimetype": "text/x-python",
   "name": "python",
   "nbconvert_exporter": "python",
   "pygments_lexer": "ipython3",
   "version": "3.13.2"
  }
 },
 "nbformat": 4,
 "nbformat_minor": 5
}
